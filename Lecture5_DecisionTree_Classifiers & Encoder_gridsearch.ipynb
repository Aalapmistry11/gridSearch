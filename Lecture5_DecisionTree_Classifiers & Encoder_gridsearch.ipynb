{
 "cells": [
  {
   "cell_type": "code",
   "execution_count": 3,
   "metadata": {},
   "outputs": [],
   "source": [
    "import pandas as pd\n",
    "import numpy as np\n",
    "import seaborn as sns\n",
    "import matplotlib.pyplot as plt\n",
    "from sklearn.preprocessing import LabelEncoder\n",
    "from sklearn.model_selection import train_test_split\n",
    "from sklearn.tree import DecisionTreeClassifier\n",
    "from sklearn.ensemble import RandomForestClassifier\n"
   ]
  },
  {
   "cell_type": "code",
   "execution_count": 5,
   "metadata": {},
   "outputs": [],
   "source": [
    "from sklearn.metrics import classification_report, confusion_matrix\n"
   ]
  },
  {
   "cell_type": "code",
   "execution_count": 6,
   "metadata": {},
   "outputs": [],
   "source": [
    "from sklearn.model_selection import GridSearchCV # when accurancy low in that time we use GridSearchCV library so accurany will increase"
   ]
  },
  {
   "cell_type": "code",
   "execution_count": null,
   "metadata": {},
   "outputs": [],
   "source": []
  },
  {
   "cell_type": "code",
   "execution_count": null,
   "metadata": {},
   "outputs": [],
   "source": []
  },
  {
   "cell_type": "code",
   "execution_count": 10,
   "metadata": {},
   "outputs": [],
   "source": [
    "kyphosis_df = pd.read_csv(r\"D:\\Excel_File\\kyphosis.csv\")"
   ]
  },
  {
   "cell_type": "code",
   "execution_count": 11,
   "metadata": {},
   "outputs": [
    {
     "data": {
      "text/html": [
       "<div>\n",
       "<style scoped>\n",
       "    .dataframe tbody tr th:only-of-type {\n",
       "        vertical-align: middle;\n",
       "    }\n",
       "\n",
       "    .dataframe tbody tr th {\n",
       "        vertical-align: top;\n",
       "    }\n",
       "\n",
       "    .dataframe thead th {\n",
       "        text-align: right;\n",
       "    }\n",
       "</style>\n",
       "<table border=\"1\" class=\"dataframe\">\n",
       "  <thead>\n",
       "    <tr style=\"text-align: right;\">\n",
       "      <th></th>\n",
       "      <th>Kyphosis</th>\n",
       "      <th>Age</th>\n",
       "      <th>Number</th>\n",
       "      <th>Start</th>\n",
       "    </tr>\n",
       "  </thead>\n",
       "  <tbody>\n",
       "    <tr>\n",
       "      <th>0</th>\n",
       "      <td>absent</td>\n",
       "      <td>71</td>\n",
       "      <td>3</td>\n",
       "      <td>5</td>\n",
       "    </tr>\n",
       "    <tr>\n",
       "      <th>1</th>\n",
       "      <td>absent</td>\n",
       "      <td>158</td>\n",
       "      <td>3</td>\n",
       "      <td>14</td>\n",
       "    </tr>\n",
       "    <tr>\n",
       "      <th>2</th>\n",
       "      <td>present</td>\n",
       "      <td>128</td>\n",
       "      <td>4</td>\n",
       "      <td>5</td>\n",
       "    </tr>\n",
       "    <tr>\n",
       "      <th>3</th>\n",
       "      <td>absent</td>\n",
       "      <td>2</td>\n",
       "      <td>5</td>\n",
       "      <td>1</td>\n",
       "    </tr>\n",
       "    <tr>\n",
       "      <th>4</th>\n",
       "      <td>absent</td>\n",
       "      <td>1</td>\n",
       "      <td>4</td>\n",
       "      <td>15</td>\n",
       "    </tr>\n",
       "    <tr>\n",
       "      <th>...</th>\n",
       "      <td>...</td>\n",
       "      <td>...</td>\n",
       "      <td>...</td>\n",
       "      <td>...</td>\n",
       "    </tr>\n",
       "    <tr>\n",
       "      <th>76</th>\n",
       "      <td>present</td>\n",
       "      <td>157</td>\n",
       "      <td>3</td>\n",
       "      <td>13</td>\n",
       "    </tr>\n",
       "    <tr>\n",
       "      <th>77</th>\n",
       "      <td>absent</td>\n",
       "      <td>26</td>\n",
       "      <td>7</td>\n",
       "      <td>13</td>\n",
       "    </tr>\n",
       "    <tr>\n",
       "      <th>78</th>\n",
       "      <td>absent</td>\n",
       "      <td>120</td>\n",
       "      <td>2</td>\n",
       "      <td>13</td>\n",
       "    </tr>\n",
       "    <tr>\n",
       "      <th>79</th>\n",
       "      <td>present</td>\n",
       "      <td>42</td>\n",
       "      <td>7</td>\n",
       "      <td>6</td>\n",
       "    </tr>\n",
       "    <tr>\n",
       "      <th>80</th>\n",
       "      <td>absent</td>\n",
       "      <td>36</td>\n",
       "      <td>4</td>\n",
       "      <td>13</td>\n",
       "    </tr>\n",
       "  </tbody>\n",
       "</table>\n",
       "<p>81 rows × 4 columns</p>\n",
       "</div>"
      ],
      "text/plain": [
       "   Kyphosis  Age  Number  Start\n",
       "0    absent   71       3      5\n",
       "1    absent  158       3     14\n",
       "2   present  128       4      5\n",
       "3    absent    2       5      1\n",
       "4    absent    1       4     15\n",
       "..      ...  ...     ...    ...\n",
       "76  present  157       3     13\n",
       "77   absent   26       7     13\n",
       "78   absent  120       2     13\n",
       "79  present   42       7      6\n",
       "80   absent   36       4     13\n",
       "\n",
       "[81 rows x 4 columns]"
      ]
     },
     "execution_count": 11,
     "metadata": {},
     "output_type": "execute_result"
    }
   ],
   "source": [
    "kyphosis_df"
   ]
  },
  {
   "cell_type": "code",
   "execution_count": null,
   "metadata": {},
   "outputs": [],
   "source": []
  },
  {
   "cell_type": "code",
   "execution_count": null,
   "metadata": {},
   "outputs": [],
   "source": []
  },
  {
   "cell_type": "code",
   "execution_count": 12,
   "metadata": {},
   "outputs": [
    {
     "name": "stdout",
     "output_type": "stream",
     "text": [
      "<class 'pandas.core.frame.DataFrame'>\n",
      "RangeIndex: 81 entries, 0 to 80\n",
      "Data columns (total 4 columns):\n",
      " #   Column    Non-Null Count  Dtype \n",
      "---  ------    --------------  ----- \n",
      " 0   Kyphosis  81 non-null     object\n",
      " 1   Age       81 non-null     int64 \n",
      " 2   Number    81 non-null     int64 \n",
      " 3   Start     81 non-null     int64 \n",
      "dtypes: int64(3), object(1)\n",
      "memory usage: 2.7+ KB\n"
     ]
    }
   ],
   "source": [
    "kyphosis_df.info()"
   ]
  },
  {
   "cell_type": "code",
   "execution_count": 13,
   "metadata": {},
   "outputs": [
    {
     "data": {
      "text/html": [
       "<div>\n",
       "<style scoped>\n",
       "    .dataframe tbody tr th:only-of-type {\n",
       "        vertical-align: middle;\n",
       "    }\n",
       "\n",
       "    .dataframe tbody tr th {\n",
       "        vertical-align: top;\n",
       "    }\n",
       "\n",
       "    .dataframe thead th {\n",
       "        text-align: right;\n",
       "    }\n",
       "</style>\n",
       "<table border=\"1\" class=\"dataframe\">\n",
       "  <thead>\n",
       "    <tr style=\"text-align: right;\">\n",
       "      <th></th>\n",
       "      <th>Age</th>\n",
       "      <th>Number</th>\n",
       "      <th>Start</th>\n",
       "    </tr>\n",
       "  </thead>\n",
       "  <tbody>\n",
       "    <tr>\n",
       "      <th>count</th>\n",
       "      <td>81.000000</td>\n",
       "      <td>81.000000</td>\n",
       "      <td>81.000000</td>\n",
       "    </tr>\n",
       "    <tr>\n",
       "      <th>mean</th>\n",
       "      <td>83.654321</td>\n",
       "      <td>4.049383</td>\n",
       "      <td>11.493827</td>\n",
       "    </tr>\n",
       "    <tr>\n",
       "      <th>std</th>\n",
       "      <td>58.104251</td>\n",
       "      <td>1.619423</td>\n",
       "      <td>4.883962</td>\n",
       "    </tr>\n",
       "    <tr>\n",
       "      <th>min</th>\n",
       "      <td>1.000000</td>\n",
       "      <td>2.000000</td>\n",
       "      <td>1.000000</td>\n",
       "    </tr>\n",
       "    <tr>\n",
       "      <th>25%</th>\n",
       "      <td>26.000000</td>\n",
       "      <td>3.000000</td>\n",
       "      <td>9.000000</td>\n",
       "    </tr>\n",
       "    <tr>\n",
       "      <th>50%</th>\n",
       "      <td>87.000000</td>\n",
       "      <td>4.000000</td>\n",
       "      <td>13.000000</td>\n",
       "    </tr>\n",
       "    <tr>\n",
       "      <th>75%</th>\n",
       "      <td>130.000000</td>\n",
       "      <td>5.000000</td>\n",
       "      <td>16.000000</td>\n",
       "    </tr>\n",
       "    <tr>\n",
       "      <th>max</th>\n",
       "      <td>206.000000</td>\n",
       "      <td>10.000000</td>\n",
       "      <td>18.000000</td>\n",
       "    </tr>\n",
       "  </tbody>\n",
       "</table>\n",
       "</div>"
      ],
      "text/plain": [
       "              Age     Number      Start\n",
       "count   81.000000  81.000000  81.000000\n",
       "mean    83.654321   4.049383  11.493827\n",
       "std     58.104251   1.619423   4.883962\n",
       "min      1.000000   2.000000   1.000000\n",
       "25%     26.000000   3.000000   9.000000\n",
       "50%     87.000000   4.000000  13.000000\n",
       "75%    130.000000   5.000000  16.000000\n",
       "max    206.000000  10.000000  18.000000"
      ]
     },
     "execution_count": 13,
     "metadata": {},
     "output_type": "execute_result"
    }
   ],
   "source": [
    "kyphosis_df.describe()"
   ]
  },
  {
   "cell_type": "code",
   "execution_count": 14,
   "metadata": {},
   "outputs": [
    {
     "data": {
      "text/plain": [
       "<matplotlib.axes._subplots.AxesSubplot at 0x1eba3766148>"
      ]
     },
     "execution_count": 14,
     "metadata": {},
     "output_type": "execute_result"
    },
    {
     "data": {
      "image/png": "[encoded data removed]",
      "text/plain": [
       "<Figure size 432x288 with 1 Axes>"
      ]
     },
     "metadata": {
      "needs_background": "light"
     },
     "output_type": "display_data"
    }
   ],
   "source": [
    "sns.countplot(x='Kyphosis', data=kyphosis_df, label='count')"
   ]
  },
  {
   "cell_type": "code",
   "execution_count": 15,
   "metadata": {},
   "outputs": [
    {
     "data": {
      "text/html": [
       "<div>\n",
       "<style scoped>\n",
       "    .dataframe tbody tr th:only-of-type {\n",
       "        vertical-align: middle;\n",
       "    }\n",
       "\n",
       "    .dataframe tbody tr th {\n",
       "        vertical-align: top;\n",
       "    }\n",
       "\n",
       "    .dataframe thead th {\n",
       "        text-align: right;\n",
       "    }\n",
       "</style>\n",
       "<table border=\"1\" class=\"dataframe\">\n",
       "  <thead>\n",
       "    <tr style=\"text-align: right;\">\n",
       "      <th></th>\n",
       "      <th>Kyphosis</th>\n",
       "      <th>Age</th>\n",
       "      <th>Number</th>\n",
       "      <th>Start</th>\n",
       "    </tr>\n",
       "  </thead>\n",
       "  <tbody>\n",
       "    <tr>\n",
       "      <th>0</th>\n",
       "      <td>absent</td>\n",
       "      <td>71</td>\n",
       "      <td>3</td>\n",
       "      <td>5</td>\n",
       "    </tr>\n",
       "    <tr>\n",
       "      <th>1</th>\n",
       "      <td>absent</td>\n",
       "      <td>158</td>\n",
       "      <td>3</td>\n",
       "      <td>14</td>\n",
       "    </tr>\n",
       "    <tr>\n",
       "      <th>2</th>\n",
       "      <td>present</td>\n",
       "      <td>128</td>\n",
       "      <td>4</td>\n",
       "      <td>5</td>\n",
       "    </tr>\n",
       "    <tr>\n",
       "      <th>3</th>\n",
       "      <td>absent</td>\n",
       "      <td>2</td>\n",
       "      <td>5</td>\n",
       "      <td>1</td>\n",
       "    </tr>\n",
       "    <tr>\n",
       "      <th>4</th>\n",
       "      <td>absent</td>\n",
       "      <td>1</td>\n",
       "      <td>4</td>\n",
       "      <td>15</td>\n",
       "    </tr>\n",
       "  </tbody>\n",
       "</table>\n",
       "</div>"
      ],
      "text/plain": [
       "  Kyphosis  Age  Number  Start\n",
       "0   absent   71       3      5\n",
       "1   absent  158       3     14\n",
       "2  present  128       4      5\n",
       "3   absent    2       5      1\n",
       "4   absent    1       4     15"
      ]
     },
     "execution_count": 15,
     "metadata": {},
     "output_type": "execute_result"
    }
   ],
   "source": [
    "kyphosis_df.head()"
   ]
  },
  {
   "cell_type": "code",
   "execution_count": 16,
   "metadata": {},
   "outputs": [],
   "source": [
    "le_y = LabelEncoder()"
   ]
  },
  {
   "cell_type": "code",
   "execution_count": 17,
   "metadata": {},
   "outputs": [],
   "source": [
    "kyphosis_df['Kyphosis'] = le_y.fit_transform(kyphosis_df['Kyphosis'])"
   ]
  },
  {
   "cell_type": "code",
   "execution_count": 18,
   "metadata": {},
   "outputs": [
    {
     "data": {
      "text/html": [
       "<div>\n",
       "<style scoped>\n",
       "    .dataframe tbody tr th:only-of-type {\n",
       "        vertical-align: middle;\n",
       "    }\n",
       "\n",
       "    .dataframe tbody tr th {\n",
       "        vertical-align: top;\n",
       "    }\n",
       "\n",
       "    .dataframe thead th {\n",
       "        text-align: right;\n",
       "    }\n",
       "</style>\n",
       "<table border=\"1\" class=\"dataframe\">\n",
       "  <thead>\n",
       "    <tr style=\"text-align: right;\">\n",
       "      <th></th>\n",
       "      <th>Kyphosis</th>\n",
       "      <th>Age</th>\n",
       "      <th>Number</th>\n",
       "      <th>Start</th>\n",
       "    </tr>\n",
       "  </thead>\n",
       "  <tbody>\n",
       "    <tr>\n",
       "      <th>0</th>\n",
       "      <td>0</td>\n",
       "      <td>71</td>\n",
       "      <td>3</td>\n",
       "      <td>5</td>\n",
       "    </tr>\n",
       "    <tr>\n",
       "      <th>1</th>\n",
       "      <td>0</td>\n",
       "      <td>158</td>\n",
       "      <td>3</td>\n",
       "      <td>14</td>\n",
       "    </tr>\n",
       "    <tr>\n",
       "      <th>2</th>\n",
       "      <td>1</td>\n",
       "      <td>128</td>\n",
       "      <td>4</td>\n",
       "      <td>5</td>\n",
       "    </tr>\n",
       "    <tr>\n",
       "      <th>3</th>\n",
       "      <td>0</td>\n",
       "      <td>2</td>\n",
       "      <td>5</td>\n",
       "      <td>1</td>\n",
       "    </tr>\n",
       "    <tr>\n",
       "      <th>4</th>\n",
       "      <td>0</td>\n",
       "      <td>1</td>\n",
       "      <td>4</td>\n",
       "      <td>15</td>\n",
       "    </tr>\n",
       "  </tbody>\n",
       "</table>\n",
       "</div>"
      ],
      "text/plain": [
       "   Kyphosis  Age  Number  Start\n",
       "0         0   71       3      5\n",
       "1         0  158       3     14\n",
       "2         1  128       4      5\n",
       "3         0    2       5      1\n",
       "4         0    1       4     15"
      ]
     },
     "execution_count": 18,
     "metadata": {},
     "output_type": "execute_result"
    }
   ],
   "source": [
    "kyphosis_df.head()"
   ]
  },
  {
   "cell_type": "code",
   "execution_count": 19,
   "metadata": {},
   "outputs": [
    {
     "data": {
      "text/plain": [
       "<matplotlib.axes._subplots.AxesSubplot at 0x1eba3f8c108>"
      ]
     },
     "execution_count": 19,
     "metadata": {},
     "output_type": "execute_result"
    },
    {
     "data": {
      "image/png": "[encoded data removed]",
      "text/plain": [
       "<Figure size 432x288 with 2 Axes>"
      ]
     },
     "metadata": {
      "needs_background": "light"
     },
     "output_type": "display_data"
    }
   ],
   "source": [
    "sns.heatmap(kyphosis_df.corr(), annot=True, fmt='.2g')"
   ]
  },
  {
   "cell_type": "code",
   "execution_count": 20,
   "metadata": {},
   "outputs": [],
   "source": [
    "X = kyphosis_df.drop(['Kyphosis'], axis=1)\n",
    "\n",
    "y = kyphosis_df['Kyphosis']"
   ]
  },
  {
   "cell_type": "code",
   "execution_count": 21,
   "metadata": {},
   "outputs": [],
   "source": [
    "X_train, X_test, y_train, y_test = train_test_split(X, y, test_size=0.3, random_state=0)"
   ]
  },
  {
   "cell_type": "code",
   "execution_count": 22,
   "metadata": {},
   "outputs": [],
   "source": [
    "dt_classifier = DecisionTreeClassifier()"
   ]
  },
  {
   "cell_type": "code",
   "execution_count": 23,
   "metadata": {},
   "outputs": [
    {
     "data": {
      "text/plain": [
       "DecisionTreeClassifier(ccp_alpha=0.0, class_weight=None, criterion='gini',\n",
       "                       max_depth=None, max_features=None, max_leaf_nodes=None,\n",
       "                       min_impurity_decrease=0.0, min_impurity_split=None,\n",
       "                       min_samples_leaf=1, min_samples_split=2,\n",
       "                       min_weight_fraction_leaf=0.0, presort='deprecated',\n",
       "                       random_state=None, splitter='best')"
      ]
     },
     "execution_count": 23,
     "metadata": {},
     "output_type": "execute_result"
    }
   ],
   "source": [
    "dt_classifier.fit(X_train, y_train)"
   ]
  },
  {
   "cell_type": "code",
   "execution_count": 24,
   "metadata": {},
   "outputs": [],
   "source": [
    "y_pred = dt_classifier.predict(X_test)"
   ]
  },
  {
   "cell_type": "code",
   "execution_count": 25,
   "metadata": {},
   "outputs": [
    {
     "data": {
      "text/plain": [
       "array([[16,  2],\n",
       "       [ 5,  2]], dtype=int64)"
      ]
     },
     "execution_count": 25,
     "metadata": {},
     "output_type": "execute_result"
    }
   ],
   "source": [
    "confusion_matrix(y_test, y_pred)"
   ]
  },
  {
   "cell_type": "code",
   "execution_count": 26,
   "metadata": {},
   "outputs": [
    {
     "name": "stdout",
     "output_type": "stream",
     "text": [
      "              precision    recall  f1-score   support\n",
      "\n",
      "           0       0.76      0.89      0.82        18\n",
      "           1       0.50      0.29      0.36         7\n",
      "\n",
      "    accuracy                           0.72        25\n",
      "   macro avg       0.63      0.59      0.59        25\n",
      "weighted avg       0.69      0.72      0.69        25\n",
      "\n"
     ]
    }
   ],
   "source": [
    "print(classification_report(y_test, y_pred))"
   ]
  },
  {
   "cell_type": "code",
   "execution_count": 27,
   "metadata": {},
   "outputs": [],
   "source": [
    "rf_classifier = RandomForestClassifier()"
   ]
  },
  {
   "cell_type": "code",
   "execution_count": 28,
   "metadata": {},
   "outputs": [
    {
     "data": {
      "text/plain": [
       "RandomForestClassifier(bootstrap=True, ccp_alpha=0.0, class_weight=None,\n",
       "                       criterion='gini', max_depth=None, max_features='auto',\n",
       "                       max_leaf_nodes=None, max_samples=None,\n",
       "                       min_impurity_decrease=0.0, min_impurity_split=None,\n",
       "                       min_samples_leaf=1, min_samples_split=2,\n",
       "                       min_weight_fraction_leaf=0.0, n_estimators=100,\n",
       "                       n_jobs=None, oob_score=False, random_state=None,\n",
       "                       verbose=0, warm_start=False)"
      ]
     },
     "execution_count": 28,
     "metadata": {},
     "output_type": "execute_result"
    }
   ],
   "source": [
    "rf_classifier.fit(X_train, y_train)"
   ]
  },
  {
   "cell_type": "code",
   "execution_count": 29,
   "metadata": {},
   "outputs": [],
   "source": [
    "y_pred = rf_classifier.predict(X_test)"
   ]
  },
  {
   "cell_type": "code",
   "execution_count": 30,
   "metadata": {},
   "outputs": [
    {
     "data": {
      "text/plain": [
       "array([[17,  1],\n",
       "       [ 4,  3]], dtype=int64)"
      ]
     },
     "execution_count": 30,
     "metadata": {},
     "output_type": "execute_result"
    }
   ],
   "source": [
    "confusion_matrix(y_test, y_pred)"
   ]
  },
  {
   "cell_type": "code",
   "execution_count": 31,
   "metadata": {},
   "outputs": [
    {
     "name": "stdout",
     "output_type": "stream",
     "text": [
      "              precision    recall  f1-score   support\n",
      "\n",
      "           0       0.81      0.94      0.87        18\n",
      "           1       0.75      0.43      0.55         7\n",
      "\n",
      "    accuracy                           0.80        25\n",
      "   macro avg       0.78      0.69      0.71        25\n",
      "weighted avg       0.79      0.80      0.78        25\n",
      "\n"
     ]
    }
   ],
   "source": [
    "print(classification_report(y_test, y_pred))"
   ]
  },
  {
   "cell_type": "code",
   "execution_count": 32,
   "metadata": {},
   "outputs": [],
   "source": [
    "param_grid = {'n_estimators':list(range(300, 350))}\n",
    "grid = GridSearchCV(RandomForestClassifier(), param_grid=param_grid, refit=True, verbose=4)"
   ]
  },
  {
   "cell_type": "code",
   "execution_count": 33,
   "metadata": {},
   "outputs": [
    {
     "name": "stdout",
     "output_type": "stream",
     "text": [
      "Fitting 5 folds for each of 50 candidates, totalling 250 fits\n",
      "[CV] n_estimators=300 ................................................\n"
     ]
    },
    {
     "name": "stderr",
     "output_type": "stream",
     "text": [
      "[Parallel(n_jobs=1)]: Using backend SequentialBackend with 1 concurrent workers.\n"
     ]
    },
    {
     "name": "stdout",
     "output_type": "stream",
     "text": [
      "[CV] .................... n_estimators=300, score=0.833, total=   0.8s\n",
      "[CV] n_estimators=300 ................................................\n"
     ]
    },
    {
     "name": "stderr",
     "output_type": "stream",
     "text": [
      "[Parallel(n_jobs=1)]: Done   1 out of   1 | elapsed:    0.7s remaining:    0.0s\n"
     ]
    },
    {
     "name": "stdout",
     "output_type": "stream",
     "text": [
      "[CV] .................... n_estimators=300, score=0.818, total=   0.8s\n",
      "[CV] n_estimators=300 ................................................\n"
     ]
    },
    {
     "name": "stderr",
     "output_type": "stream",
     "text": [
      "[Parallel(n_jobs=1)]: Done   2 out of   2 | elapsed:    1.5s remaining:    0.0s\n"
     ]
    },
    {
     "name": "stdout",
     "output_type": "stream",
     "text": [
      "[CV] .................... n_estimators=300, score=0.818, total=   0.8s\n",
      "[CV] n_estimators=300 ................................................\n"
     ]
    },
    {
     "name": "stderr",
     "output_type": "stream",
     "text": [
      "[Parallel(n_jobs=1)]: Done   3 out of   3 | elapsed:    2.3s remaining:    0.0s\n"
     ]
    },
    {
     "name": "stdout",
     "output_type": "stream",
     "text": [
      "[CV] .................... n_estimators=300, score=0.818, total=   0.8s\n",
      "[CV] n_estimators=300 ................................................\n",
      "[CV] .................... n_estimators=300, score=0.727, total=   0.9s\n",
      "[CV] n_estimators=301 ................................................\n",
      "[CV] .................... n_estimators=301, score=0.833, total=   0.9s\n",
      "[CV] n_estimators=301 ................................................\n",
      "[CV] .................... n_estimators=301, score=0.818, total=   1.2s\n",
      "[CV] n_estimators=301 ................................................\n",
      "[CV] .................... n_estimators=301, score=0.818, total=   0.8s\n",
      "[CV] n_estimators=301 ................................................\n",
      "[CV] .................... n_estimators=301, score=0.818, total=   0.4s\n",
      "[CV] n_estimators=301 ................................................\n",
      "[CV] .................... n_estimators=301, score=0.727, total=   0.5s\n",
      "[CV] n_estimators=302 ................................................\n",
      "[CV] .................... n_estimators=302, score=0.833, total=   0.4s\n",
      "[CV] n_estimators=302 ................................................\n",
      "[CV] .................... n_estimators=302, score=0.818, total=   0.8s\n",
      "[CV] n_estimators=302 ................................................\n",
      "[CV] .................... n_estimators=302, score=0.818, total=   0.9s\n",
      "[CV] n_estimators=302 ................................................\n",
      "[CV] .................... n_estimators=302, score=0.727, total=   0.9s\n",
      "[CV] n_estimators=302 ................................................\n",
      "[CV] .................... n_estimators=302, score=0.818, total=   0.8s\n",
      "[CV] n_estimators=303 ................................................\n",
      "[CV] .................... n_estimators=303, score=0.833, total=   0.8s\n",
      "[CV] n_estimators=303 ................................................\n",
      "[CV] .................... n_estimators=303, score=0.818, total=   0.9s\n",
      "[CV] n_estimators=303 ................................................\n",
      "[CV] .................... n_estimators=303, score=0.818, total=   0.9s\n",
      "[CV] n_estimators=303 ................................................\n",
      "[CV] .................... n_estimators=303, score=0.727, total=   0.9s\n",
      "[CV] n_estimators=303 ................................................\n",
      "[CV] .................... n_estimators=303, score=0.818, total=   0.9s\n",
      "[CV] n_estimators=304 ................................................\n",
      "[CV] .................... n_estimators=304, score=0.833, total=   0.9s\n",
      "[CV] n_estimators=304 ................................................\n",
      "[CV] .................... n_estimators=304, score=0.818, total=   0.8s\n",
      "[CV] n_estimators=304 ................................................\n",
      "[CV] .................... n_estimators=304, score=0.818, total=   0.9s\n",
      "[CV] n_estimators=304 ................................................\n",
      "[CV] .................... n_estimators=304, score=0.818, total=   0.9s\n",
      "[CV] n_estimators=304 ................................................\n",
      "[CV] .................... n_estimators=304, score=0.727, total=   0.9s\n",
      "[CV] n_estimators=305 ................................................\n",
      "[CV] .................... n_estimators=305, score=0.833, total=   1.0s\n",
      "[CV] n_estimators=305 ................................................\n",
      "[CV] .................... n_estimators=305, score=0.818, total=   1.3s\n",
      "[CV] n_estimators=305 ................................................\n",
      "[CV] .................... n_estimators=305, score=0.818, total=   0.5s\n",
      "[CV] n_estimators=305 ................................................\n",
      "[CV] .................... n_estimators=305, score=0.727, total=   0.5s\n",
      "[CV] n_estimators=305 ................................................\n",
      "[CV] .................... n_estimators=305, score=0.818, total=   0.4s\n",
      "[CV] n_estimators=306 ................................................\n",
      "[CV] .................... n_estimators=306, score=0.833, total=   0.4s\n",
      "[CV] n_estimators=306 ................................................\n",
      "[CV] .................... n_estimators=306, score=0.909, total=   0.8s\n",
      "[CV] n_estimators=306 ................................................\n",
      "[CV] .................... n_estimators=306, score=0.818, total=   0.9s\n",
      "[CV] n_estimators=306 ................................................\n",
      "[CV] .................... n_estimators=306, score=0.727, total=   0.9s\n",
      "[CV] n_estimators=306 ................................................\n",
      "[CV] .................... n_estimators=306, score=0.818, total=   0.9s\n",
      "[CV] n_estimators=307 ................................................\n",
      "[CV] .................... n_estimators=307, score=0.833, total=   0.9s\n",
      "[CV] n_estimators=307 ................................................\n",
      "[CV] .................... n_estimators=307, score=0.818, total=   0.9s\n",
      "[CV] n_estimators=307 ................................................\n",
      "[CV] .................... n_estimators=307, score=0.818, total=   0.9s\n",
      "[CV] n_estimators=307 ................................................\n",
      "[CV] .................... n_estimators=307, score=0.727, total=   0.9s\n",
      "[CV] n_estimators=307 ................................................\n",
      "[CV] .................... n_estimators=307, score=0.818, total=   0.9s\n",
      "[CV] n_estimators=308 ................................................\n",
      "[CV] .................... n_estimators=308, score=0.833, total=   0.9s\n",
      "[CV] n_estimators=308 ................................................\n",
      "[CV] .................... n_estimators=308, score=0.818, total=   0.9s\n",
      "[CV] n_estimators=308 ................................................\n",
      "[CV] .................... n_estimators=308, score=0.818, total=   0.9s\n",
      "[CV] n_estimators=308 ................................................\n",
      "[CV] .................... n_estimators=308, score=0.818, total=   0.9s\n",
      "[CV] n_estimators=308 ................................................\n",
      "[CV] .................... n_estimators=308, score=0.818, total=   0.9s\n",
      "[CV] n_estimators=309 ................................................\n",
      "[CV] .................... n_estimators=309, score=0.833, total=   1.4s\n",
      "[CV] n_estimators=309 ................................................\n",
      "[CV] .................... n_estimators=309, score=0.818, total=   0.9s\n",
      "[CV] n_estimators=309 ................................................\n",
      "[CV] .................... n_estimators=309, score=0.818, total=   0.4s\n",
      "[CV] n_estimators=309 ................................................\n",
      "[CV] .................... n_estimators=309, score=0.727, total=   0.6s\n",
      "[CV] n_estimators=309 ................................................\n",
      "[CV] .................... n_estimators=309, score=0.818, total=   0.5s\n",
      "[CV] n_estimators=310 ................................................\n",
      "[CV] .................... n_estimators=310, score=0.833, total=   0.8s\n",
      "[CV] n_estimators=310 ................................................\n",
      "[CV] .................... n_estimators=310, score=0.818, total=   0.9s\n",
      "[CV] n_estimators=310 ................................................\n",
      "[CV] .................... n_estimators=310, score=0.818, total=   0.9s\n",
      "[CV] n_estimators=310 ................................................\n",
      "[CV] .................... n_estimators=310, score=0.727, total=   0.9s\n",
      "[CV] n_estimators=310 ................................................\n",
      "[CV] .................... n_estimators=310, score=0.727, total=   0.9s\n",
      "[CV] n_estimators=311 ................................................\n",
      "[CV] .................... n_estimators=311, score=0.833, total=   0.9s\n",
      "[CV] n_estimators=311 ................................................\n",
      "[CV] .................... n_estimators=311, score=0.818, total=   0.9s\n",
      "[CV] n_estimators=311 ................................................\n",
      "[CV] .................... n_estimators=311, score=0.818, total=   0.9s\n",
      "[CV] n_estimators=311 ................................................\n",
      "[CV] .................... n_estimators=311, score=0.727, total=   0.9s\n",
      "[CV] n_estimators=311 ................................................\n",
      "[CV] .................... n_estimators=311, score=0.818, total=   1.1s\n",
      "[CV] n_estimators=312 ................................................\n",
      "[CV] .................... n_estimators=312, score=0.833, total=   0.9s\n",
      "[CV] n_estimators=312 ................................................\n"
     ]
    },
    {
     "name": "stdout",
     "output_type": "stream",
     "text": [
      "[CV] .................... n_estimators=312, score=0.818, total=   0.9s\n",
      "[CV] n_estimators=312 ................................................\n",
      "[CV] .................... n_estimators=312, score=0.818, total=   0.9s\n",
      "[CV] n_estimators=312 ................................................\n",
      "[CV] .................... n_estimators=312, score=0.727, total=   1.2s\n",
      "[CV] n_estimators=312 ................................................\n",
      "[CV] .................... n_estimators=312, score=0.818, total=   1.3s\n",
      "[CV] n_estimators=313 ................................................\n",
      "[CV] .................... n_estimators=313, score=0.833, total=   0.4s\n",
      "[CV] n_estimators=313 ................................................\n",
      "[CV] .................... n_estimators=313, score=0.818, total=   0.5s\n",
      "[CV] n_estimators=313 ................................................\n",
      "[CV] .................... n_estimators=313, score=0.818, total=   0.4s\n",
      "[CV] n_estimators=313 ................................................\n",
      "[CV] .................... n_estimators=313, score=0.727, total=   0.6s\n",
      "[CV] n_estimators=313 ................................................\n",
      "[CV] .................... n_estimators=313, score=0.727, total=   0.9s\n",
      "[CV] n_estimators=314 ................................................\n",
      "[CV] .................... n_estimators=314, score=0.833, total=   0.9s\n",
      "[CV] n_estimators=314 ................................................\n",
      "[CV] .................... n_estimators=314, score=0.818, total=   0.9s\n",
      "[CV] n_estimators=314 ................................................\n",
      "[CV] .................... n_estimators=314, score=0.818, total=   1.0s\n",
      "[CV] n_estimators=314 ................................................\n",
      "[CV] .................... n_estimators=314, score=0.818, total=   0.9s\n",
      "[CV] n_estimators=314 ................................................\n",
      "[CV] .................... n_estimators=314, score=0.818, total=   0.9s\n",
      "[CV] n_estimators=315 ................................................\n",
      "[CV] .................... n_estimators=315, score=0.833, total=   0.9s\n",
      "[CV] n_estimators=315 ................................................\n",
      "[CV] .................... n_estimators=315, score=0.818, total=   0.9s\n",
      "[CV] n_estimators=315 ................................................\n",
      "[CV] .................... n_estimators=315, score=0.818, total=   0.9s\n",
      "[CV] n_estimators=315 ................................................\n",
      "[CV] .................... n_estimators=315, score=0.727, total=   0.9s\n",
      "[CV] n_estimators=315 ................................................\n",
      "[CV] .................... n_estimators=315, score=0.818, total=   0.9s\n",
      "[CV] n_estimators=316 ................................................\n",
      "[CV] .................... n_estimators=316, score=0.833, total=   0.9s\n",
      "[CV] n_estimators=316 ................................................\n",
      "[CV] .................... n_estimators=316, score=0.818, total=   1.0s\n",
      "[CV] n_estimators=316 ................................................\n",
      "[CV] .................... n_estimators=316, score=0.818, total=   1.4s\n",
      "[CV] n_estimators=316 ................................................\n",
      "[CV] .................... n_estimators=316, score=0.727, total=   0.8s\n",
      "[CV] n_estimators=316 ................................................\n",
      "[CV] .................... n_estimators=316, score=0.727, total=   0.5s\n",
      "[CV] n_estimators=317 ................................................\n",
      "[CV] .................... n_estimators=317, score=0.833, total=   0.4s\n",
      "[CV] n_estimators=317 ................................................\n",
      "[CV] .................... n_estimators=317, score=0.818, total=   0.5s\n",
      "[CV] n_estimators=317 ................................................\n",
      "[CV] .................... n_estimators=317, score=0.818, total=   0.9s\n",
      "[CV] n_estimators=317 ................................................\n",
      "[CV] .................... n_estimators=317, score=0.818, total=   0.9s\n",
      "[CV] n_estimators=317 ................................................\n",
      "[CV] .................... n_estimators=317, score=0.818, total=   0.9s\n",
      "[CV] n_estimators=318 ................................................\n",
      "[CV] .................... n_estimators=318, score=0.833, total=   0.9s\n",
      "[CV] n_estimators=318 ................................................\n",
      "[CV] .................... n_estimators=318, score=0.818, total=   0.9s\n",
      "[CV] n_estimators=318 ................................................\n",
      "[CV] .................... n_estimators=318, score=0.818, total=   0.9s\n",
      "[CV] n_estimators=318 ................................................\n",
      "[CV] .................... n_estimators=318, score=0.818, total=   0.9s\n",
      "[CV] n_estimators=318 ................................................\n",
      "[CV] .................... n_estimators=318, score=0.818, total=   0.9s\n",
      "[CV] n_estimators=319 ................................................\n",
      "[CV] .................... n_estimators=319, score=0.833, total=   0.9s\n",
      "[CV] n_estimators=319 ................................................\n",
      "[CV] .................... n_estimators=319, score=0.818, total=   0.9s\n",
      "[CV] n_estimators=319 ................................................\n",
      "[CV] .................... n_estimators=319, score=0.818, total=   0.9s\n",
      "[CV] n_estimators=319 ................................................\n",
      "[CV] .................... n_estimators=319, score=0.818, total=   0.9s\n",
      "[CV] n_estimators=319 ................................................\n",
      "[CV] .................... n_estimators=319, score=0.727, total=   0.9s\n",
      "[CV] n_estimators=320 ................................................\n",
      "[CV] .................... n_estimators=320, score=0.833, total=   1.2s\n",
      "[CV] n_estimators=320 ................................................\n",
      "[CV] .................... n_estimators=320, score=0.818, total=   1.3s\n",
      "[CV] n_estimators=320 ................................................\n",
      "[CV] .................... n_estimators=320, score=0.818, total=   0.4s\n",
      "[CV] n_estimators=320 ................................................\n",
      "[CV] .................... n_estimators=320, score=0.727, total=   0.5s\n",
      "[CV] n_estimators=320 ................................................\n",
      "[CV] .................... n_estimators=320, score=0.727, total=   0.4s\n",
      "[CV] n_estimators=321 ................................................\n",
      "[CV] .................... n_estimators=321, score=0.833, total=   0.5s\n",
      "[CV] n_estimators=321 ................................................\n",
      "[CV] .................... n_estimators=321, score=0.818, total=   0.9s\n",
      "[CV] n_estimators=321 ................................................\n",
      "[CV] .................... n_estimators=321, score=0.818, total=   0.9s\n",
      "[CV] n_estimators=321 ................................................\n",
      "[CV] .................... n_estimators=321, score=0.818, total=   0.9s\n",
      "[CV] n_estimators=321 ................................................\n",
      "[CV] .................... n_estimators=321, score=0.727, total=   0.9s\n",
      "[CV] n_estimators=322 ................................................\n",
      "[CV] .................... n_estimators=322, score=0.833, total=   0.9s\n",
      "[CV] n_estimators=322 ................................................\n",
      "[CV] .................... n_estimators=322, score=0.818, total=   0.9s\n",
      "[CV] n_estimators=322 ................................................\n",
      "[CV] .................... n_estimators=322, score=0.818, total=   1.0s\n",
      "[CV] n_estimators=322 ................................................\n",
      "[CV] .................... n_estimators=322, score=0.727, total=   0.9s\n",
      "[CV] n_estimators=322 ................................................\n",
      "[CV] .................... n_estimators=322, score=0.818, total=   0.9s\n",
      "[CV] n_estimators=323 ................................................\n",
      "[CV] .................... n_estimators=323, score=0.833, total=   0.9s\n",
      "[CV] n_estimators=323 ................................................\n",
      "[CV] .................... n_estimators=323, score=0.818, total=   0.9s\n",
      "[CV] n_estimators=323 ................................................\n",
      "[CV] .................... n_estimators=323, score=0.818, total=   1.0s\n",
      "[CV] n_estimators=323 ................................................\n",
      "[CV] .................... n_estimators=323, score=0.818, total=   1.0s\n",
      "[CV] n_estimators=323 ................................................\n"
     ]
    },
    {
     "name": "stdout",
     "output_type": "stream",
     "text": [
      "[CV] .................... n_estimators=323, score=0.818, total=   1.4s\n",
      "[CV] n_estimators=324 ................................................\n",
      "[CV] .................... n_estimators=324, score=0.833, total=   0.9s\n",
      "[CV] n_estimators=324 ................................................\n",
      "[CV] .................... n_estimators=324, score=0.818, total=   0.4s\n",
      "[CV] n_estimators=324 ................................................\n",
      "[CV] .................... n_estimators=324, score=0.818, total=   0.5s\n",
      "[CV] n_estimators=324 ................................................\n",
      "[CV] .................... n_estimators=324, score=0.818, total=   0.5s\n",
      "[CV] n_estimators=324 ................................................\n",
      "[CV] .................... n_estimators=324, score=0.818, total=   0.9s\n",
      "[CV] n_estimators=325 ................................................\n",
      "[CV] .................... n_estimators=325, score=0.833, total=   1.0s\n",
      "[CV] n_estimators=325 ................................................\n",
      "[CV] .................... n_estimators=325, score=0.818, total=   1.0s\n",
      "[CV] n_estimators=325 ................................................\n",
      "[CV] .................... n_estimators=325, score=0.818, total=   1.0s\n",
      "[CV] n_estimators=325 ................................................\n",
      "[CV] .................... n_estimators=325, score=0.727, total=   0.9s\n",
      "[CV] n_estimators=325 ................................................\n",
      "[CV] .................... n_estimators=325, score=0.818, total=   0.9s\n",
      "[CV] n_estimators=326 ................................................\n",
      "[CV] .................... n_estimators=326, score=0.833, total=   1.0s\n",
      "[CV] n_estimators=326 ................................................\n",
      "[CV] .................... n_estimators=326, score=0.818, total=   0.9s\n",
      "[CV] n_estimators=326 ................................................\n",
      "[CV] .................... n_estimators=326, score=0.818, total=   0.8s\n",
      "[CV] n_estimators=326 ................................................\n",
      "[CV] .................... n_estimators=326, score=0.727, total=   0.8s\n",
      "[CV] n_estimators=326 ................................................\n",
      "[CV] .................... n_estimators=326, score=0.818, total=   0.8s\n",
      "[CV] n_estimators=327 ................................................\n",
      "[CV] .................... n_estimators=327, score=0.833, total=   0.8s\n",
      "[CV] n_estimators=327 ................................................\n",
      "[CV] .................... n_estimators=327, score=0.818, total=   0.8s\n",
      "[CV] n_estimators=327 ................................................\n",
      "[CV] .................... n_estimators=327, score=0.818, total=   0.8s\n",
      "[CV] n_estimators=327 ................................................\n",
      "[CV] .................... n_estimators=327, score=0.818, total=   1.3s\n",
      "[CV] n_estimators=327 ................................................\n",
      "[CV] .................... n_estimators=327, score=0.818, total=   0.8s\n",
      "[CV] n_estimators=328 ................................................\n",
      "[CV] .................... n_estimators=328, score=0.833, total=   0.5s\n",
      "[CV] n_estimators=328 ................................................\n",
      "[CV] .................... n_estimators=328, score=0.818, total=   0.4s\n",
      "[CV] n_estimators=328 ................................................\n",
      "[CV] .................... n_estimators=328, score=0.818, total=   0.5s\n",
      "[CV] n_estimators=328 ................................................\n",
      "[CV] .................... n_estimators=328, score=0.727, total=   0.9s\n",
      "[CV] n_estimators=328 ................................................\n",
      "[CV] .................... n_estimators=328, score=0.818, total=   1.0s\n",
      "[CV] n_estimators=329 ................................................\n",
      "[CV] .................... n_estimators=329, score=0.833, total=   0.9s\n",
      "[CV] n_estimators=329 ................................................\n",
      "[CV] .................... n_estimators=329, score=0.818, total=   0.9s\n",
      "[CV] n_estimators=329 ................................................\n",
      "[CV] .................... n_estimators=329, score=0.818, total=   0.9s\n",
      "[CV] n_estimators=329 ................................................\n",
      "[CV] .................... n_estimators=329, score=0.818, total=   0.9s\n",
      "[CV] n_estimators=329 ................................................\n",
      "[CV] .................... n_estimators=329, score=0.727, total=   0.9s\n",
      "[CV] n_estimators=330 ................................................\n",
      "[CV] .................... n_estimators=330, score=0.833, total=   0.9s\n",
      "[CV] n_estimators=330 ................................................\n",
      "[CV] .................... n_estimators=330, score=0.818, total=   0.9s\n",
      "[CV] n_estimators=330 ................................................\n",
      "[CV] .................... n_estimators=330, score=0.818, total=   0.9s\n",
      "[CV] n_estimators=330 ................................................\n",
      "[CV] .................... n_estimators=330, score=0.727, total=   0.9s\n",
      "[CV] n_estimators=330 ................................................\n",
      "[CV] .................... n_estimators=330, score=0.818, total=   0.9s\n",
      "[CV] n_estimators=331 ................................................\n",
      "[CV] .................... n_estimators=331, score=0.833, total=   0.9s\n",
      "[CV] n_estimators=331 ................................................\n",
      "[CV] .................... n_estimators=331, score=0.818, total=   1.3s\n",
      "[CV] n_estimators=331 ................................................\n",
      "[CV] .................... n_estimators=331, score=0.818, total=   1.1s\n",
      "[CV] n_estimators=331 ................................................\n",
      "[CV] .................... n_estimators=331, score=0.727, total=   0.4s\n",
      "[CV] n_estimators=331 ................................................\n",
      "[CV] .................... n_estimators=331, score=0.818, total=   0.5s\n",
      "[CV] n_estimators=332 ................................................\n",
      "[CV] .................... n_estimators=332, score=0.833, total=   0.5s\n",
      "[CV] n_estimators=332 ................................................\n",
      "[CV] .................... n_estimators=332, score=0.818, total=   0.7s\n",
      "[CV] n_estimators=332 ................................................\n",
      "[CV] .................... n_estimators=332, score=0.818, total=   1.0s\n",
      "[CV] n_estimators=332 ................................................\n",
      "[CV] .................... n_estimators=332, score=0.818, total=   1.0s\n",
      "[CV] n_estimators=332 ................................................\n",
      "[CV] .................... n_estimators=332, score=0.818, total=   1.0s\n",
      "[CV] n_estimators=333 ................................................\n",
      "[CV] .................... n_estimators=333, score=0.833, total=   1.1s\n",
      "[CV] n_estimators=333 ................................................\n",
      "[CV] .................... n_estimators=333, score=0.818, total=   1.0s\n",
      "[CV] n_estimators=333 ................................................\n",
      "[CV] .................... n_estimators=333, score=0.818, total=   1.0s\n",
      "[CV] n_estimators=333 ................................................\n",
      "[CV] .................... n_estimators=333, score=0.727, total=   1.0s\n",
      "[CV] n_estimators=333 ................................................\n",
      "[CV] .................... n_estimators=333, score=0.818, total=   0.9s\n",
      "[CV] n_estimators=334 ................................................\n",
      "[CV] .................... n_estimators=334, score=0.833, total=   1.0s\n",
      "[CV] n_estimators=334 ................................................\n",
      "[CV] .................... n_estimators=334, score=0.909, total=   1.0s\n",
      "[CV] n_estimators=334 ................................................\n",
      "[CV] .................... n_estimators=334, score=0.818, total=   1.0s\n",
      "[CV] n_estimators=334 ................................................\n",
      "[CV] .................... n_estimators=334, score=0.818, total=   1.0s\n",
      "[CV] n_estimators=334 ................................................\n",
      "[CV] .................... n_estimators=334, score=0.818, total=   1.4s\n",
      "[CV] n_estimators=335 ................................................\n",
      "[CV] .................... n_estimators=335, score=0.833, total=   1.0s\n",
      "[CV] n_estimators=335 ................................................\n",
      "[CV] .................... n_estimators=335, score=0.818, total=   0.4s\n",
      "[CV] n_estimators=335 ................................................\n"
     ]
    },
    {
     "name": "stdout",
     "output_type": "stream",
     "text": [
      "[CV] .................... n_estimators=335, score=0.818, total=   0.5s\n",
      "[CV] n_estimators=335 ................................................\n",
      "[CV] .................... n_estimators=335, score=0.727, total=   0.5s\n",
      "[CV] n_estimators=335 ................................................\n",
      "[CV] .................... n_estimators=335, score=0.818, total=   0.9s\n",
      "[CV] n_estimators=336 ................................................\n",
      "[CV] .................... n_estimators=336, score=0.833, total=   1.0s\n",
      "[CV] n_estimators=336 ................................................\n",
      "[CV] .................... n_estimators=336, score=0.818, total=   0.9s\n",
      "[CV] n_estimators=336 ................................................\n",
      "[CV] .................... n_estimators=336, score=0.818, total=   0.9s\n",
      "[CV] n_estimators=336 ................................................\n",
      "[CV] .................... n_estimators=336, score=0.727, total=   1.0s\n",
      "[CV] n_estimators=336 ................................................\n",
      "[CV] .................... n_estimators=336, score=0.727, total=   0.9s\n",
      "[CV] n_estimators=337 ................................................\n",
      "[CV] .................... n_estimators=337, score=0.833, total=   1.0s\n",
      "[CV] n_estimators=337 ................................................\n",
      "[CV] .................... n_estimators=337, score=0.818, total=   1.0s\n",
      "[CV] n_estimators=337 ................................................\n",
      "[CV] .................... n_estimators=337, score=0.818, total=   1.0s\n",
      "[CV] n_estimators=337 ................................................\n",
      "[CV] .................... n_estimators=337, score=0.818, total=   0.9s\n",
      "[CV] n_estimators=337 ................................................\n",
      "[CV] .................... n_estimators=337, score=0.818, total=   1.0s\n",
      "[CV] n_estimators=338 ................................................\n",
      "[CV] .................... n_estimators=338, score=0.833, total=   0.9s\n",
      "[CV] n_estimators=338 ................................................\n",
      "[CV] .................... n_estimators=338, score=0.818, total=   1.0s\n",
      "[CV] n_estimators=338 ................................................\n",
      "[CV] .................... n_estimators=338, score=0.818, total=   1.5s\n",
      "[CV] n_estimators=338 ................................................\n",
      "[CV] .................... n_estimators=338, score=0.818, total=   0.7s\n",
      "[CV] n_estimators=338 ................................................\n",
      "[CV] .................... n_estimators=338, score=0.727, total=   0.6s\n",
      "[CV] n_estimators=339 ................................................\n",
      "[CV] .................... n_estimators=339, score=0.833, total=   0.4s\n",
      "[CV] n_estimators=339 ................................................\n",
      "[CV] .................... n_estimators=339, score=0.818, total=   0.7s\n",
      "[CV] n_estimators=339 ................................................\n",
      "[CV] .................... n_estimators=339, score=0.818, total=   1.0s\n",
      "[CV] n_estimators=339 ................................................\n",
      "[CV] .................... n_estimators=339, score=0.727, total=   1.0s\n",
      "[CV] n_estimators=339 ................................................\n",
      "[CV] .................... n_estimators=339, score=0.818, total=   1.0s\n",
      "[CV] n_estimators=340 ................................................\n",
      "[CV] .................... n_estimators=340, score=0.833, total=   1.0s\n",
      "[CV] n_estimators=340 ................................................\n",
      "[CV] .................... n_estimators=340, score=0.818, total=   1.0s\n",
      "[CV] n_estimators=340 ................................................\n",
      "[CV] .................... n_estimators=340, score=0.818, total=   1.0s\n",
      "[CV] n_estimators=340 ................................................\n",
      "[CV] .................... n_estimators=340, score=0.818, total=   1.0s\n",
      "[CV] n_estimators=340 ................................................\n",
      "[CV] .................... n_estimators=340, score=0.818, total=   1.0s\n",
      "[CV] n_estimators=341 ................................................\n",
      "[CV] .................... n_estimators=341, score=0.833, total=   1.0s\n",
      "[CV] n_estimators=341 ................................................\n",
      "[CV] .................... n_estimators=341, score=0.818, total=   1.0s\n",
      "[CV] n_estimators=341 ................................................\n",
      "[CV] .................... n_estimators=341, score=0.818, total=   1.0s\n",
      "[CV] n_estimators=341 ................................................\n",
      "[CV] .................... n_estimators=341, score=0.727, total=   1.0s\n",
      "[CV] n_estimators=341 ................................................\n",
      "[CV] .................... n_estimators=341, score=0.818, total=   1.4s\n",
      "[CV] n_estimators=342 ................................................\n",
      "[CV] .................... n_estimators=342, score=0.833, total=   1.1s\n",
      "[CV] n_estimators=342 ................................................\n",
      "[CV] .................... n_estimators=342, score=0.818, total=   0.4s\n",
      "[CV] n_estimators=342 ................................................\n",
      "[CV] .................... n_estimators=342, score=0.818, total=   0.5s\n",
      "[CV] n_estimators=342 ................................................\n",
      "[CV] .................... n_estimators=342, score=0.727, total=   0.5s\n",
      "[CV] n_estimators=342 ................................................\n",
      "[CV] .................... n_estimators=342, score=0.818, total=   0.9s\n",
      "[CV] n_estimators=343 ................................................\n",
      "[CV] .................... n_estimators=343, score=0.833, total=   1.0s\n",
      "[CV] n_estimators=343 ................................................\n",
      "[CV] .................... n_estimators=343, score=0.818, total=   1.0s\n",
      "[CV] n_estimators=343 ................................................\n",
      "[CV] .................... n_estimators=343, score=0.818, total=   1.0s\n",
      "[CV] n_estimators=343 ................................................\n",
      "[CV] .................... n_estimators=343, score=0.818, total=   1.0s\n",
      "[CV] n_estimators=343 ................................................\n",
      "[CV] .................... n_estimators=343, score=0.818, total=   1.0s\n",
      "[CV] n_estimators=344 ................................................\n",
      "[CV] .................... n_estimators=344, score=0.833, total=   1.0s\n",
      "[CV] n_estimators=344 ................................................\n",
      "[CV] .................... n_estimators=344, score=0.818, total=   1.0s\n",
      "[CV] n_estimators=344 ................................................\n",
      "[CV] .................... n_estimators=344, score=0.818, total=   1.0s\n",
      "[CV] n_estimators=344 ................................................\n",
      "[CV] .................... n_estimators=344, score=0.727, total=   0.9s\n",
      "[CV] n_estimators=344 ................................................\n",
      "[CV] .................... n_estimators=344, score=0.818, total=   1.0s\n",
      "[CV] n_estimators=345 ................................................\n",
      "[CV] .................... n_estimators=345, score=0.833, total=   0.9s\n",
      "[CV] n_estimators=345 ................................................\n",
      "[CV] .................... n_estimators=345, score=0.818, total=   1.1s\n",
      "[CV] n_estimators=345 ................................................\n",
      "[CV] .................... n_estimators=345, score=0.818, total=   1.4s\n",
      "[CV] n_estimators=345 ................................................\n",
      "[CV] .................... n_estimators=345, score=0.727, total=   0.5s\n",
      "[CV] n_estimators=345 ................................................\n",
      "[CV] .................... n_estimators=345, score=0.727, total=   0.5s\n",
      "[CV] n_estimators=346 ................................................\n",
      "[CV] .................... n_estimators=346, score=0.833, total=   0.5s\n",
      "[CV] n_estimators=346 ................................................\n",
      "[CV] .................... n_estimators=346, score=0.818, total=   0.7s\n",
      "[CV] n_estimators=346 ................................................\n",
      "[CV] .................... n_estimators=346, score=0.818, total=   1.0s\n",
      "[CV] n_estimators=346 ................................................\n",
      "[CV] .................... n_estimators=346, score=0.727, total=   1.0s\n",
      "[CV] n_estimators=346 ................................................\n",
      "[CV] .................... n_estimators=346, score=0.818, total=   1.0s\n",
      "[CV] n_estimators=347 ................................................\n"
     ]
    },
    {
     "name": "stdout",
     "output_type": "stream",
     "text": [
      "[CV] .................... n_estimators=347, score=0.833, total=   1.0s\n",
      "[CV] n_estimators=347 ................................................\n",
      "[CV] .................... n_estimators=347, score=0.818, total=   1.0s\n",
      "[CV] n_estimators=347 ................................................\n",
      "[CV] .................... n_estimators=347, score=0.818, total=   1.0s\n",
      "[CV] n_estimators=347 ................................................\n",
      "[CV] .................... n_estimators=347, score=0.727, total=   1.0s\n",
      "[CV] n_estimators=347 ................................................\n",
      "[CV] .................... n_estimators=347, score=0.727, total=   1.0s\n",
      "[CV] n_estimators=348 ................................................\n",
      "[CV] .................... n_estimators=348, score=0.833, total=   1.0s\n",
      "[CV] n_estimators=348 ................................................\n",
      "[CV] .................... n_estimators=348, score=0.909, total=   1.0s\n",
      "[CV] n_estimators=348 ................................................\n",
      "[CV] .................... n_estimators=348, score=0.818, total=   1.0s\n",
      "[CV] n_estimators=348 ................................................\n",
      "[CV] .................... n_estimators=348, score=0.727, total=   1.0s\n",
      "[CV] n_estimators=348 ................................................\n",
      "[CV] .................... n_estimators=348, score=0.818, total=   1.6s\n",
      "[CV] n_estimators=349 ................................................\n",
      "[CV] .................... n_estimators=349, score=0.833, total=   0.7s\n",
      "[CV] n_estimators=349 ................................................\n",
      "[CV] .................... n_estimators=349, score=0.818, total=   0.5s\n",
      "[CV] n_estimators=349 ................................................\n",
      "[CV] .................... n_estimators=349, score=0.818, total=   0.5s\n",
      "[CV] n_estimators=349 ................................................\n",
      "[CV] .................... n_estimators=349, score=0.818, total=   0.8s\n",
      "[CV] n_estimators=349 ................................................\n",
      "[CV] .................... n_estimators=349, score=0.727, total=   1.0s\n"
     ]
    },
    {
     "name": "stderr",
     "output_type": "stream",
     "text": [
      "[Parallel(n_jobs=1)]: Done 250 out of 250 | elapsed:  3.6min finished\n"
     ]
    },
    {
     "data": {
      "text/plain": [
       "GridSearchCV(cv=None, error_score=nan,\n",
       "             estimator=RandomForestClassifier(bootstrap=True, ccp_alpha=0.0,\n",
       "                                              class_weight=None,\n",
       "                                              criterion='gini', max_depth=None,\n",
       "                                              max_features='auto',\n",
       "                                              max_leaf_nodes=None,\n",
       "                                              max_samples=None,\n",
       "                                              min_impurity_decrease=0.0,\n",
       "                                              min_impurity_split=None,\n",
       "                                              min_samples_leaf=1,\n",
       "                                              min_samples_split=2,\n",
       "                                              min_weight_fraction_leaf=0.0,\n",
       "                                              n_estimators=100, n_jobs=None,\n",
       "                                              oob_score=False,\n",
       "                                              random_state=None, verbose=0,\n",
       "                                              warm_start=False),\n",
       "             iid='deprecated', n_jobs=None,\n",
       "             param_grid={'n_estimators': [300, 301, 302, 303, 304, 305, 306,\n",
       "                                          307, 308, 309, 310, 311, 312, 313,\n",
       "                                          314, 315, 316, 317, 318, 319, 320,\n",
       "                                          321, 322, 323, 324, 325, 326, 327,\n",
       "                                          328, 329, ...]},\n",
       "             pre_dispatch='2*n_jobs', refit=True, return_train_score=False,\n",
       "             scoring=None, verbose=4)"
      ]
     },
     "execution_count": 33,
     "metadata": {},
     "output_type": "execute_result"
    }
   ],
   "source": [
    "grid.fit(X_train, y_train)"
   ]
  },
  {
   "cell_type": "code",
   "execution_count": 34,
   "metadata": {},
   "outputs": [
    {
     "data": {
      "text/plain": [
       "{'n_estimators': 334}"
      ]
     },
     "execution_count": 34,
     "metadata": {},
     "output_type": "execute_result"
    }
   ],
   "source": [
    "grid.best_params_"
   ]
  },
  {
   "cell_type": "code",
   "execution_count": 35,
   "metadata": {},
   "outputs": [],
   "source": [
    "y_pred = grid.predict(X_test)"
   ]
  },
  {
   "cell_type": "code",
   "execution_count": 36,
   "metadata": {},
   "outputs": [
    {
     "name": "stdout",
     "output_type": "stream",
     "text": [
      "              precision    recall  f1-score   support\n",
      "\n",
      "           0       0.74      0.94      0.83        18\n",
      "           1       0.50      0.14      0.22         7\n",
      "\n",
      "    accuracy                           0.72        25\n",
      "   macro avg       0.62      0.54      0.53        25\n",
      "weighted avg       0.67      0.72      0.66        25\n",
      "\n"
     ]
    }
   ],
   "source": [
    "print(classification_report(y_test, y_pred))"
   ]
  },
  {
   "cell_type": "markdown",
   "metadata": {},
   "source": [
    "# or"
   ]
  },
  {
   "cell_type": "code",
   "execution_count": 37,
   "metadata": {},
   "outputs": [],
   "source": [
    "rfc=RandomForestClassifier(random_state=42)\n"
   ]
  },
  {
   "cell_type": "code",
   "execution_count": 38,
   "metadata": {},
   "outputs": [],
   "source": [
    "param_grid = { \n",
    "    'n_estimators': [200, 500],\n",
    "    'max_features': ['auto', 'sqrt', 'log2'],\n",
    "    'max_depth' : [4,5,6,7,8],\n",
    "    'criterion' :['gini', 'entropy']\n",
    "}\n"
   ]
  },
  {
   "cell_type": "code",
   "execution_count": 41,
   "metadata": {},
   "outputs": [],
   "source": [
    "CV_rfc = GridSearchCV(estimator=rfc, param_grid=param_grid, cv= 5)\n"
   ]
  },
  {
   "cell_type": "code",
   "execution_count": 43,
   "metadata": {},
   "outputs": [
    {
     "name": "stdout",
     "output_type": "stream",
     "text": [
      "Fitting 5 folds for each of 50 candidates, totalling 250 fits\n",
      "[CV] n_estimators=300 ................................................\n"
     ]
    },
    {
     "name": "stderr",
     "output_type": "stream",
     "text": [
      "[Parallel(n_jobs=1)]: Using backend SequentialBackend with 1 concurrent workers.\n"
     ]
    },
    {
     "name": "stdout",
     "output_type": "stream",
     "text": [
      "[CV] .................... n_estimators=300, score=0.833, total=   0.3s\n",
      "[CV] n_estimators=300 ................................................\n"
     ]
    },
    {
     "name": "stderr",
     "output_type": "stream",
     "text": [
      "[Parallel(n_jobs=1)]: Done   1 out of   1 | elapsed:    0.2s remaining:    0.0s\n"
     ]
    },
    {
     "name": "stdout",
     "output_type": "stream",
     "text": [
      "[CV] .................... n_estimators=300, score=0.818, total=   0.3s\n",
      "[CV] n_estimators=300 ................................................\n"
     ]
    },
    {
     "name": "stderr",
     "output_type": "stream",
     "text": [
      "[Parallel(n_jobs=1)]: Done   2 out of   2 | elapsed:    0.5s remaining:    0.0s\n"
     ]
    },
    {
     "name": "stdout",
     "output_type": "stream",
     "text": [
      "[CV] .................... n_estimators=300, score=0.818, total=   0.3s\n",
      "[CV] n_estimators=300 ................................................\n"
     ]
    },
    {
     "name": "stderr",
     "output_type": "stream",
     "text": [
      "[Parallel(n_jobs=1)]: Done   3 out of   3 | elapsed:    0.8s remaining:    0.0s\n"
     ]
    },
    {
     "name": "stdout",
     "output_type": "stream",
     "text": [
      "[CV] .................... n_estimators=300, score=0.818, total=   0.3s\n",
      "[CV] n_estimators=300 ................................................\n",
      "[CV] .................... n_estimators=300, score=0.727, total=   0.3s\n",
      "[CV] n_estimators=301 ................................................\n",
      "[CV] .................... n_estimators=301, score=0.833, total=   0.3s\n",
      "[CV] n_estimators=301 ................................................\n",
      "[CV] .................... n_estimators=301, score=0.818, total=   0.3s\n",
      "[CV] n_estimators=301 ................................................\n",
      "[CV] .................... n_estimators=301, score=0.818, total=   0.3s\n",
      "[CV] n_estimators=301 ................................................\n",
      "[CV] .................... n_estimators=301, score=0.727, total=   0.3s\n",
      "[CV] n_estimators=301 ................................................\n",
      "[CV] .................... n_estimators=301, score=0.727, total=   0.3s\n",
      "[CV] n_estimators=302 ................................................\n",
      "[CV] .................... n_estimators=302, score=0.833, total=   0.3s\n",
      "[CV] n_estimators=302 ................................................\n",
      "[CV] .................... n_estimators=302, score=0.818, total=   0.3s\n",
      "[CV] n_estimators=302 ................................................\n",
      "[CV] .................... n_estimators=302, score=0.818, total=   0.3s\n",
      "[CV] n_estimators=302 ................................................\n",
      "[CV] .................... n_estimators=302, score=0.727, total=   0.3s\n",
      "[CV] n_estimators=302 ................................................\n",
      "[CV] .................... n_estimators=302, score=0.818, total=   0.3s\n",
      "[CV] n_estimators=303 ................................................\n",
      "[CV] .................... n_estimators=303, score=0.833, total=   0.3s\n",
      "[CV] n_estimators=303 ................................................\n",
      "[CV] .................... n_estimators=303, score=0.818, total=   0.3s\n",
      "[CV] n_estimators=303 ................................................\n",
      "[CV] .................... n_estimators=303, score=0.818, total=   0.3s\n",
      "[CV] n_estimators=303 ................................................\n",
      "[CV] .................... n_estimators=303, score=0.727, total=   0.3s\n",
      "[CV] n_estimators=303 ................................................\n",
      "[CV] .................... n_estimators=303, score=0.727, total=   0.3s\n",
      "[CV] n_estimators=304 ................................................\n",
      "[CV] .................... n_estimators=304, score=0.833, total=   0.3s\n",
      "[CV] n_estimators=304 ................................................\n",
      "[CV] .................... n_estimators=304, score=0.818, total=   0.3s\n",
      "[CV] n_estimators=304 ................................................\n",
      "[CV] .................... n_estimators=304, score=0.818, total=   0.3s\n",
      "[CV] n_estimators=304 ................................................\n",
      "[CV] .................... n_estimators=304, score=0.727, total=   0.3s\n",
      "[CV] n_estimators=304 ................................................\n",
      "[CV] .................... n_estimators=304, score=0.818, total=   0.3s\n",
      "[CV] n_estimators=305 ................................................\n",
      "[CV] .................... n_estimators=305, score=0.833, total=   0.3s\n",
      "[CV] n_estimators=305 ................................................\n",
      "[CV] .................... n_estimators=305, score=0.818, total=   0.3s\n",
      "[CV] n_estimators=305 ................................................\n",
      "[CV] .................... n_estimators=305, score=0.818, total=   0.3s\n",
      "[CV] n_estimators=305 ................................................\n",
      "[CV] .................... n_estimators=305, score=0.727, total=   0.3s\n",
      "[CV] n_estimators=305 ................................................\n",
      "[CV] .................... n_estimators=305, score=0.818, total=   0.3s\n",
      "[CV] n_estimators=306 ................................................\n",
      "[CV] .................... n_estimators=306, score=0.833, total=   0.3s\n",
      "[CV] n_estimators=306 ................................................\n",
      "[CV] .................... n_estimators=306, score=0.818, total=   0.3s\n",
      "[CV] n_estimators=306 ................................................\n",
      "[CV] .................... n_estimators=306, score=0.818, total=   0.3s\n",
      "[CV] n_estimators=306 ................................................\n",
      "[CV] .................... n_estimators=306, score=0.727, total=   0.3s\n",
      "[CV] n_estimators=306 ................................................\n",
      "[CV] .................... n_estimators=306, score=0.727, total=   0.3s\n",
      "[CV] n_estimators=307 ................................................\n",
      "[CV] .................... n_estimators=307, score=0.833, total=   0.3s\n",
      "[CV] n_estimators=307 ................................................\n",
      "[CV] .................... n_estimators=307, score=0.818, total=   0.3s\n",
      "[CV] n_estimators=307 ................................................\n",
      "[CV] .................... n_estimators=307, score=0.818, total=   0.3s\n",
      "[CV] n_estimators=307 ................................................\n",
      "[CV] .................... n_estimators=307, score=0.727, total=   0.3s\n",
      "[CV] n_estimators=307 ................................................\n",
      "[CV] .................... n_estimators=307, score=0.727, total=   0.3s\n",
      "[CV] n_estimators=308 ................................................\n",
      "[CV] .................... n_estimators=308, score=0.833, total=   0.3s\n",
      "[CV] n_estimators=308 ................................................\n",
      "[CV] .................... n_estimators=308, score=0.818, total=   0.3s\n",
      "[CV] n_estimators=308 ................................................\n",
      "[CV] .................... n_estimators=308, score=0.818, total=   0.3s\n",
      "[CV] n_estimators=308 ................................................\n",
      "[CV] .................... n_estimators=308, score=0.727, total=   0.3s\n",
      "[CV] n_estimators=308 ................................................\n",
      "[CV] .................... n_estimators=308, score=0.818, total=   0.3s\n",
      "[CV] n_estimators=309 ................................................\n",
      "[CV] .................... n_estimators=309, score=0.833, total=   0.3s\n",
      "[CV] n_estimators=309 ................................................\n",
      "[CV] .................... n_estimators=309, score=0.818, total=   0.3s\n",
      "[CV] n_estimators=309 ................................................\n",
      "[CV] .................... n_estimators=309, score=0.818, total=   0.3s\n",
      "[CV] n_estimators=309 ................................................\n",
      "[CV] .................... n_estimators=309, score=0.727, total=   0.3s\n",
      "[CV] n_estimators=309 ................................................\n",
      "[CV] .................... n_estimators=309, score=0.727, total=   0.3s\n",
      "[CV] n_estimators=310 ................................................\n",
      "[CV] .................... n_estimators=310, score=0.833, total=   0.3s\n",
      "[CV] n_estimators=310 ................................................\n",
      "[CV] .................... n_estimators=310, score=0.818, total=   0.3s\n",
      "[CV] n_estimators=310 ................................................\n",
      "[CV] .................... n_estimators=310, score=0.818, total=   0.3s\n",
      "[CV] n_estimators=310 ................................................\n",
      "[CV] .................... n_estimators=310, score=0.818, total=   0.3s\n",
      "[CV] n_estimators=310 ................................................\n",
      "[CV] .................... n_estimators=310, score=0.727, total=   0.3s\n",
      "[CV] n_estimators=311 ................................................\n",
      "[CV] .................... n_estimators=311, score=0.833, total=   0.3s\n",
      "[CV] n_estimators=311 ................................................\n",
      "[CV] .................... n_estimators=311, score=0.818, total=   0.3s\n",
      "[CV] n_estimators=311 ................................................\n",
      "[CV] .................... n_estimators=311, score=0.818, total=   0.3s\n",
      "[CV] n_estimators=311 ................................................\n",
      "[CV] .................... n_estimators=311, score=0.727, total=   0.3s\n",
      "[CV] n_estimators=311 ................................................\n",
      "[CV] .................... n_estimators=311, score=0.818, total=   0.3s\n",
      "[CV] n_estimators=312 ................................................\n",
      "[CV] .................... n_estimators=312, score=0.833, total=   0.3s\n",
      "[CV] n_estimators=312 ................................................\n"
     ]
    },
    {
     "name": "stdout",
     "output_type": "stream",
     "text": [
      "[CV] .................... n_estimators=312, score=0.818, total=   0.3s\n",
      "[CV] n_estimators=312 ................................................\n",
      "[CV] .................... n_estimators=312, score=0.818, total=   0.3s\n",
      "[CV] n_estimators=312 ................................................\n",
      "[CV] .................... n_estimators=312, score=0.727, total=   0.3s\n",
      "[CV] n_estimators=312 ................................................\n",
      "[CV] .................... n_estimators=312, score=0.727, total=   0.3s\n",
      "[CV] n_estimators=313 ................................................\n",
      "[CV] .................... n_estimators=313, score=0.833, total=   0.3s\n",
      "[CV] n_estimators=313 ................................................\n",
      "[CV] .................... n_estimators=313, score=0.818, total=   0.3s\n",
      "[CV] n_estimators=313 ................................................\n",
      "[CV] .................... n_estimators=313, score=0.818, total=   0.3s\n",
      "[CV] n_estimators=313 ................................................\n",
      "[CV] .................... n_estimators=313, score=0.818, total=   0.3s\n",
      "[CV] n_estimators=313 ................................................\n",
      "[CV] .................... n_estimators=313, score=0.818, total=   0.3s\n",
      "[CV] n_estimators=314 ................................................\n",
      "[CV] .................... n_estimators=314, score=0.833, total=   0.3s\n",
      "[CV] n_estimators=314 ................................................\n",
      "[CV] .................... n_estimators=314, score=0.818, total=   0.3s\n",
      "[CV] n_estimators=314 ................................................\n",
      "[CV] .................... n_estimators=314, score=0.818, total=   0.3s\n",
      "[CV] n_estimators=314 ................................................\n",
      "[CV] .................... n_estimators=314, score=0.818, total=   0.3s\n",
      "[CV] n_estimators=314 ................................................\n",
      "[CV] .................... n_estimators=314, score=0.818, total=   0.3s\n",
      "[CV] n_estimators=315 ................................................\n",
      "[CV] .................... n_estimators=315, score=0.833, total=   0.3s\n",
      "[CV] n_estimators=315 ................................................\n",
      "[CV] .................... n_estimators=315, score=0.909, total=   0.3s\n",
      "[CV] n_estimators=315 ................................................\n",
      "[CV] .................... n_estimators=315, score=0.818, total=   0.3s\n",
      "[CV] n_estimators=315 ................................................\n",
      "[CV] .................... n_estimators=315, score=0.818, total=   0.3s\n",
      "[CV] n_estimators=315 ................................................\n",
      "[CV] .................... n_estimators=315, score=0.818, total=   0.3s\n",
      "[CV] n_estimators=316 ................................................\n",
      "[CV] .................... n_estimators=316, score=0.833, total=   0.3s\n",
      "[CV] n_estimators=316 ................................................\n",
      "[CV] .................... n_estimators=316, score=0.818, total=   0.3s\n",
      "[CV] n_estimators=316 ................................................\n",
      "[CV] .................... n_estimators=316, score=0.818, total=   0.4s\n",
      "[CV] n_estimators=316 ................................................\n",
      "[CV] .................... n_estimators=316, score=0.818, total=   0.3s\n",
      "[CV] n_estimators=316 ................................................\n",
      "[CV] .................... n_estimators=316, score=0.727, total=   0.3s\n",
      "[CV] n_estimators=317 ................................................\n",
      "[CV] .................... n_estimators=317, score=0.833, total=   0.3s\n",
      "[CV] n_estimators=317 ................................................\n",
      "[CV] .................... n_estimators=317, score=0.818, total=   0.3s\n",
      "[CV] n_estimators=317 ................................................\n",
      "[CV] .................... n_estimators=317, score=0.818, total=   0.3s\n",
      "[CV] n_estimators=317 ................................................\n",
      "[CV] .................... n_estimators=317, score=0.727, total=   0.3s\n",
      "[CV] n_estimators=317 ................................................\n",
      "[CV] .................... n_estimators=317, score=0.727, total=   0.3s\n",
      "[CV] n_estimators=318 ................................................\n",
      "[CV] .................... n_estimators=318, score=0.833, total=   0.3s\n",
      "[CV] n_estimators=318 ................................................\n",
      "[CV] .................... n_estimators=318, score=0.818, total=   0.3s\n",
      "[CV] n_estimators=318 ................................................\n",
      "[CV] .................... n_estimators=318, score=0.818, total=   0.3s\n",
      "[CV] n_estimators=318 ................................................\n",
      "[CV] .................... n_estimators=318, score=0.727, total=   0.3s\n",
      "[CV] n_estimators=318 ................................................\n",
      "[CV] .................... n_estimators=318, score=0.727, total=   0.3s\n",
      "[CV] n_estimators=319 ................................................\n",
      "[CV] .................... n_estimators=319, score=0.833, total=   0.3s\n",
      "[CV] n_estimators=319 ................................................\n",
      "[CV] .................... n_estimators=319, score=0.818, total=   0.3s\n",
      "[CV] n_estimators=319 ................................................\n",
      "[CV] .................... n_estimators=319, score=0.818, total=   0.3s\n",
      "[CV] n_estimators=319 ................................................\n",
      "[CV] .................... n_estimators=319, score=0.818, total=   0.3s\n",
      "[CV] n_estimators=319 ................................................\n",
      "[CV] .................... n_estimators=319, score=0.727, total=   0.3s\n",
      "[CV] n_estimators=320 ................................................\n",
      "[CV] .................... n_estimators=320, score=0.833, total=   0.3s\n",
      "[CV] n_estimators=320 ................................................\n",
      "[CV] .................... n_estimators=320, score=0.818, total=   0.3s\n",
      "[CV] n_estimators=320 ................................................\n",
      "[CV] .................... n_estimators=320, score=0.818, total=   0.3s\n",
      "[CV] n_estimators=320 ................................................\n",
      "[CV] .................... n_estimators=320, score=0.818, total=   0.3s\n",
      "[CV] n_estimators=320 ................................................\n",
      "[CV] .................... n_estimators=320, score=0.818, total=   0.3s\n",
      "[CV] n_estimators=321 ................................................\n",
      "[CV] .................... n_estimators=321, score=0.833, total=   0.3s\n",
      "[CV] n_estimators=321 ................................................\n",
      "[CV] .................... n_estimators=321, score=0.818, total=   0.3s\n",
      "[CV] n_estimators=321 ................................................\n",
      "[CV] .................... n_estimators=321, score=0.818, total=   0.3s\n",
      "[CV] n_estimators=321 ................................................\n",
      "[CV] .................... n_estimators=321, score=0.727, total=   0.3s\n",
      "[CV] n_estimators=321 ................................................\n",
      "[CV] .................... n_estimators=321, score=0.818, total=   0.3s\n",
      "[CV] n_estimators=322 ................................................\n",
      "[CV] .................... n_estimators=322, score=0.833, total=   0.3s\n",
      "[CV] n_estimators=322 ................................................\n",
      "[CV] .................... n_estimators=322, score=0.818, total=   0.3s\n",
      "[CV] n_estimators=322 ................................................\n",
      "[CV] .................... n_estimators=322, score=0.818, total=   0.3s\n",
      "[CV] n_estimators=322 ................................................\n",
      "[CV] .................... n_estimators=322, score=0.818, total=   0.3s\n",
      "[CV] n_estimators=322 ................................................\n",
      "[CV] .................... n_estimators=322, score=0.727, total=   0.3s\n",
      "[CV] n_estimators=323 ................................................\n",
      "[CV] .................... n_estimators=323, score=0.833, total=   0.3s\n",
      "[CV] n_estimators=323 ................................................\n",
      "[CV] .................... n_estimators=323, score=0.818, total=   0.4s\n",
      "[CV] n_estimators=323 ................................................\n",
      "[CV] .................... n_estimators=323, score=0.818, total=   0.3s\n",
      "[CV] n_estimators=323 ................................................\n",
      "[CV] .................... n_estimators=323, score=0.818, total=   0.3s\n",
      "[CV] n_estimators=323 ................................................\n"
     ]
    },
    {
     "name": "stdout",
     "output_type": "stream",
     "text": [
      "[CV] .................... n_estimators=323, score=0.818, total=   0.3s\n",
      "[CV] n_estimators=324 ................................................\n",
      "[CV] .................... n_estimators=324, score=0.833, total=   0.3s\n",
      "[CV] n_estimators=324 ................................................\n",
      "[CV] .................... n_estimators=324, score=0.818, total=   0.3s\n",
      "[CV] n_estimators=324 ................................................\n",
      "[CV] .................... n_estimators=324, score=0.818, total=   0.3s\n",
      "[CV] n_estimators=324 ................................................\n",
      "[CV] .................... n_estimators=324, score=0.727, total=   0.3s\n",
      "[CV] n_estimators=324 ................................................\n",
      "[CV] .................... n_estimators=324, score=0.727, total=   0.3s\n",
      "[CV] n_estimators=325 ................................................\n",
      "[CV] .................... n_estimators=325, score=0.833, total=   0.3s\n",
      "[CV] n_estimators=325 ................................................\n",
      "[CV] .................... n_estimators=325, score=0.818, total=   0.4s\n",
      "[CV] n_estimators=325 ................................................\n",
      "[CV] .................... n_estimators=325, score=0.818, total=   0.3s\n",
      "[CV] n_estimators=325 ................................................\n",
      "[CV] .................... n_estimators=325, score=0.818, total=   0.3s\n",
      "[CV] n_estimators=325 ................................................\n",
      "[CV] .................... n_estimators=325, score=0.818, total=   0.3s\n",
      "[CV] n_estimators=326 ................................................\n",
      "[CV] .................... n_estimators=326, score=0.833, total=   0.3s\n",
      "[CV] n_estimators=326 ................................................\n",
      "[CV] .................... n_estimators=326, score=0.818, total=   0.4s\n",
      "[CV] n_estimators=326 ................................................\n",
      "[CV] .................... n_estimators=326, score=0.818, total=   0.3s\n",
      "[CV] n_estimators=326 ................................................\n",
      "[CV] .................... n_estimators=326, score=0.727, total=   0.3s\n",
      "[CV] n_estimators=326 ................................................\n",
      "[CV] .................... n_estimators=326, score=0.727, total=   0.3s\n",
      "[CV] n_estimators=327 ................................................\n",
      "[CV] .................... n_estimators=327, score=0.833, total=   0.3s\n",
      "[CV] n_estimators=327 ................................................\n",
      "[CV] .................... n_estimators=327, score=0.818, total=   0.3s\n",
      "[CV] n_estimators=327 ................................................\n",
      "[CV] .................... n_estimators=327, score=0.818, total=   0.3s\n",
      "[CV] n_estimators=327 ................................................\n",
      "[CV] .................... n_estimators=327, score=0.818, total=   0.3s\n",
      "[CV] n_estimators=327 ................................................\n",
      "[CV] .................... n_estimators=327, score=0.818, total=   0.3s\n",
      "[CV] n_estimators=328 ................................................\n",
      "[CV] .................... n_estimators=328, score=0.833, total=   0.3s\n",
      "[CV] n_estimators=328 ................................................\n",
      "[CV] .................... n_estimators=328, score=0.818, total=   0.3s\n",
      "[CV] n_estimators=328 ................................................\n",
      "[CV] .................... n_estimators=328, score=0.818, total=   0.3s\n",
      "[CV] n_estimators=328 ................................................\n",
      "[CV] .................... n_estimators=328, score=0.727, total=   0.4s\n",
      "[CV] n_estimators=328 ................................................\n",
      "[CV] .................... n_estimators=328, score=0.818, total=   0.3s\n",
      "[CV] n_estimators=329 ................................................\n",
      "[CV] .................... n_estimators=329, score=0.833, total=   0.4s\n",
      "[CV] n_estimators=329 ................................................\n",
      "[CV] .................... n_estimators=329, score=0.818, total=   0.4s\n",
      "[CV] n_estimators=329 ................................................\n",
      "[CV] .................... n_estimators=329, score=0.818, total=   0.4s\n",
      "[CV] n_estimators=329 ................................................\n",
      "[CV] .................... n_estimators=329, score=0.727, total=   0.3s\n",
      "[CV] n_estimators=329 ................................................\n",
      "[CV] .................... n_estimators=329, score=0.727, total=   0.7s\n",
      "[CV] n_estimators=330 ................................................\n",
      "[CV] .................... n_estimators=330, score=0.833, total=   0.4s\n",
      "[CV] n_estimators=330 ................................................\n",
      "[CV] .................... n_estimators=330, score=0.818, total=   0.3s\n",
      "[CV] n_estimators=330 ................................................\n",
      "[CV] .................... n_estimators=330, score=0.818, total=   0.3s\n",
      "[CV] n_estimators=330 ................................................\n",
      "[CV] .................... n_estimators=330, score=0.727, total=   0.3s\n",
      "[CV] n_estimators=330 ................................................\n",
      "[CV] .................... n_estimators=330, score=0.818, total=   0.3s\n",
      "[CV] n_estimators=331 ................................................\n",
      "[CV] .................... n_estimators=331, score=0.833, total=   0.3s\n",
      "[CV] n_estimators=331 ................................................\n",
      "[CV] .................... n_estimators=331, score=0.818, total=   0.3s\n",
      "[CV] n_estimators=331 ................................................\n",
      "[CV] .................... n_estimators=331, score=0.818, total=   0.3s\n",
      "[CV] n_estimators=331 ................................................\n",
      "[CV] .................... n_estimators=331, score=0.727, total=   0.3s\n",
      "[CV] n_estimators=331 ................................................\n",
      "[CV] .................... n_estimators=331, score=0.818, total=   0.3s\n",
      "[CV] n_estimators=332 ................................................\n",
      "[CV] .................... n_estimators=332, score=0.833, total=   0.3s\n",
      "[CV] n_estimators=332 ................................................\n",
      "[CV] .................... n_estimators=332, score=0.818, total=   0.3s\n",
      "[CV] n_estimators=332 ................................................\n",
      "[CV] .................... n_estimators=332, score=0.818, total=   0.3s\n",
      "[CV] n_estimators=332 ................................................\n",
      "[CV] .................... n_estimators=332, score=0.818, total=   0.3s\n",
      "[CV] n_estimators=332 ................................................\n",
      "[CV] .................... n_estimators=332, score=0.818, total=   0.3s\n",
      "[CV] n_estimators=333 ................................................\n",
      "[CV] .................... n_estimators=333, score=0.833, total=   0.3s\n",
      "[CV] n_estimators=333 ................................................\n",
      "[CV] .................... n_estimators=333, score=0.818, total=   0.3s\n",
      "[CV] n_estimators=333 ................................................\n",
      "[CV] .................... n_estimators=333, score=0.818, total=   0.3s\n",
      "[CV] n_estimators=333 ................................................\n",
      "[CV] .................... n_estimators=333, score=0.727, total=   0.3s\n",
      "[CV] n_estimators=333 ................................................\n",
      "[CV] .................... n_estimators=333, score=0.818, total=   0.3s\n",
      "[CV] n_estimators=334 ................................................\n",
      "[CV] .................... n_estimators=334, score=0.833, total=   0.3s\n",
      "[CV] n_estimators=334 ................................................\n",
      "[CV] .................... n_estimators=334, score=0.818, total=   0.3s\n",
      "[CV] n_estimators=334 ................................................\n",
      "[CV] .................... n_estimators=334, score=0.818, total=   0.4s\n",
      "[CV] n_estimators=334 ................................................\n",
      "[CV] .................... n_estimators=334, score=0.727, total=   0.3s\n",
      "[CV] n_estimators=334 ................................................\n",
      "[CV] .................... n_estimators=334, score=0.818, total=   0.3s\n",
      "[CV] n_estimators=335 ................................................\n",
      "[CV] .................... n_estimators=335, score=0.833, total=   0.3s\n",
      "[CV] n_estimators=335 ................................................\n",
      "[CV] .................... n_estimators=335, score=0.818, total=   0.3s\n",
      "[CV] n_estimators=335 ................................................\n"
     ]
    },
    {
     "name": "stdout",
     "output_type": "stream",
     "text": [
      "[CV] .................... n_estimators=335, score=0.818, total=   0.3s\n",
      "[CV] n_estimators=335 ................................................\n",
      "[CV] .................... n_estimators=335, score=0.727, total=   0.3s\n",
      "[CV] n_estimators=335 ................................................\n",
      "[CV] .................... n_estimators=335, score=0.818, total=   0.3s\n",
      "[CV] n_estimators=336 ................................................\n",
      "[CV] .................... n_estimators=336, score=0.833, total=   0.3s\n",
      "[CV] n_estimators=336 ................................................\n",
      "[CV] .................... n_estimators=336, score=0.909, total=   0.3s\n",
      "[CV] n_estimators=336 ................................................\n",
      "[CV] .................... n_estimators=336, score=0.818, total=   0.3s\n",
      "[CV] n_estimators=336 ................................................\n",
      "[CV] .................... n_estimators=336, score=0.727, total=   0.3s\n",
      "[CV] n_estimators=336 ................................................\n",
      "[CV] .................... n_estimators=336, score=0.818, total=   0.3s\n",
      "[CV] n_estimators=337 ................................................\n",
      "[CV] .................... n_estimators=337, score=0.833, total=   0.3s\n",
      "[CV] n_estimators=337 ................................................\n",
      "[CV] .................... n_estimators=337, score=0.818, total=   0.3s\n",
      "[CV] n_estimators=337 ................................................\n",
      "[CV] .................... n_estimators=337, score=0.818, total=   0.4s\n",
      "[CV] n_estimators=337 ................................................\n",
      "[CV] .................... n_estimators=337, score=0.727, total=   0.3s\n",
      "[CV] n_estimators=337 ................................................\n",
      "[CV] .................... n_estimators=337, score=0.818, total=   0.4s\n",
      "[CV] n_estimators=338 ................................................\n",
      "[CV] .................... n_estimators=338, score=0.833, total=   0.5s\n",
      "[CV] n_estimators=338 ................................................\n",
      "[CV] .................... n_estimators=338, score=0.818, total=   0.5s\n",
      "[CV] n_estimators=338 ................................................\n",
      "[CV] .................... n_estimators=338, score=0.818, total=   0.4s\n",
      "[CV] n_estimators=338 ................................................\n",
      "[CV] .................... n_estimators=338, score=0.727, total=   0.3s\n",
      "[CV] n_estimators=338 ................................................\n",
      "[CV] .................... n_estimators=338, score=0.727, total=   0.3s\n",
      "[CV] n_estimators=339 ................................................\n",
      "[CV] .................... n_estimators=339, score=0.833, total=   0.3s\n",
      "[CV] n_estimators=339 ................................................\n",
      "[CV] .................... n_estimators=339, score=0.818, total=   0.3s\n",
      "[CV] n_estimators=339 ................................................\n",
      "[CV] .................... n_estimators=339, score=0.818, total=   0.3s\n",
      "[CV] n_estimators=339 ................................................\n",
      "[CV] .................... n_estimators=339, score=0.727, total=   0.3s\n",
      "[CV] n_estimators=339 ................................................\n",
      "[CV] .................... n_estimators=339, score=0.818, total=   0.4s\n",
      "[CV] n_estimators=340 ................................................\n",
      "[CV] .................... n_estimators=340, score=0.833, total=   0.3s\n",
      "[CV] n_estimators=340 ................................................\n",
      "[CV] .................... n_estimators=340, score=0.818, total=   0.4s\n",
      "[CV] n_estimators=340 ................................................\n",
      "[CV] .................... n_estimators=340, score=0.818, total=   0.3s\n",
      "[CV] n_estimators=340 ................................................\n",
      "[CV] .................... n_estimators=340, score=0.818, total=   0.3s\n",
      "[CV] n_estimators=340 ................................................\n",
      "[CV] .................... n_estimators=340, score=0.727, total=   0.3s\n",
      "[CV] n_estimators=341 ................................................\n",
      "[CV] .................... n_estimators=341, score=0.833, total=   0.3s\n",
      "[CV] n_estimators=341 ................................................\n",
      "[CV] .................... n_estimators=341, score=0.818, total=   0.3s\n",
      "[CV] n_estimators=341 ................................................\n",
      "[CV] .................... n_estimators=341, score=0.818, total=   0.3s\n",
      "[CV] n_estimators=341 ................................................\n",
      "[CV] .................... n_estimators=341, score=0.727, total=   0.3s\n",
      "[CV] n_estimators=341 ................................................\n",
      "[CV] .................... n_estimators=341, score=0.727, total=   0.3s\n",
      "[CV] n_estimators=342 ................................................\n",
      "[CV] .................... n_estimators=342, score=0.833, total=   0.3s\n",
      "[CV] n_estimators=342 ................................................\n",
      "[CV] .................... n_estimators=342, score=0.818, total=   0.3s\n",
      "[CV] n_estimators=342 ................................................\n",
      "[CV] .................... n_estimators=342, score=0.818, total=   0.3s\n",
      "[CV] n_estimators=342 ................................................\n",
      "[CV] .................... n_estimators=342, score=0.727, total=   0.3s\n",
      "[CV] n_estimators=342 ................................................\n",
      "[CV] .................... n_estimators=342, score=0.818, total=   0.3s\n",
      "[CV] n_estimators=343 ................................................\n",
      "[CV] .................... n_estimators=343, score=0.833, total=   0.3s\n",
      "[CV] n_estimators=343 ................................................\n",
      "[CV] .................... n_estimators=343, score=0.818, total=   0.3s\n",
      "[CV] n_estimators=343 ................................................\n",
      "[CV] .................... n_estimators=343, score=0.818, total=   0.3s\n",
      "[CV] n_estimators=343 ................................................\n",
      "[CV] .................... n_estimators=343, score=0.818, total=   0.3s\n",
      "[CV] n_estimators=343 ................................................\n",
      "[CV] .................... n_estimators=343, score=0.727, total=   0.3s\n",
      "[CV] n_estimators=344 ................................................\n",
      "[CV] .................... n_estimators=344, score=0.833, total=   0.3s\n",
      "[CV] n_estimators=344 ................................................\n",
      "[CV] .................... n_estimators=344, score=0.818, total=   0.3s\n",
      "[CV] n_estimators=344 ................................................\n",
      "[CV] .................... n_estimators=344, score=0.818, total=   0.3s\n",
      "[CV] n_estimators=344 ................................................\n",
      "[CV] .................... n_estimators=344, score=0.727, total=   0.3s\n",
      "[CV] n_estimators=344 ................................................\n",
      "[CV] .................... n_estimators=344, score=0.818, total=   0.3s\n",
      "[CV] n_estimators=345 ................................................\n",
      "[CV] .................... n_estimators=345, score=0.833, total=   0.3s\n",
      "[CV] n_estimators=345 ................................................\n",
      "[CV] .................... n_estimators=345, score=0.818, total=   0.3s\n",
      "[CV] n_estimators=345 ................................................\n",
      "[CV] .................... n_estimators=345, score=0.818, total=   0.3s\n",
      "[CV] n_estimators=345 ................................................\n",
      "[CV] .................... n_estimators=345, score=0.818, total=   0.3s\n",
      "[CV] n_estimators=345 ................................................\n",
      "[CV] .................... n_estimators=345, score=0.818, total=   0.3s\n",
      "[CV] n_estimators=346 ................................................\n",
      "[CV] .................... n_estimators=346, score=0.833, total=   0.4s\n",
      "[CV] n_estimators=346 ................................................\n",
      "[CV] .................... n_estimators=346, score=0.818, total=   0.4s\n",
      "[CV] n_estimators=346 ................................................\n",
      "[CV] .................... n_estimators=346, score=0.818, total=   0.3s\n",
      "[CV] n_estimators=346 ................................................\n",
      "[CV] .................... n_estimators=346, score=0.727, total=   0.3s\n",
      "[CV] n_estimators=346 ................................................\n",
      "[CV] .................... n_estimators=346, score=0.818, total=   0.4s\n",
      "[CV] n_estimators=347 ................................................\n"
     ]
    },
    {
     "name": "stdout",
     "output_type": "stream",
     "text": [
      "[CV] .................... n_estimators=347, score=0.833, total=   0.3s\n",
      "[CV] n_estimators=347 ................................................\n",
      "[CV] .................... n_estimators=347, score=0.818, total=   0.3s\n",
      "[CV] n_estimators=347 ................................................\n",
      "[CV] .................... n_estimators=347, score=0.818, total=   0.3s\n",
      "[CV] n_estimators=347 ................................................\n",
      "[CV] .................... n_estimators=347, score=0.818, total=   0.3s\n",
      "[CV] n_estimators=347 ................................................\n",
      "[CV] .................... n_estimators=347, score=0.818, total=   0.3s\n",
      "[CV] n_estimators=348 ................................................\n",
      "[CV] .................... n_estimators=348, score=0.833, total=   0.3s\n",
      "[CV] n_estimators=348 ................................................\n",
      "[CV] .................... n_estimators=348, score=0.818, total=   0.3s\n",
      "[CV] n_estimators=348 ................................................\n",
      "[CV] .................... n_estimators=348, score=0.818, total=   0.3s\n",
      "[CV] n_estimators=348 ................................................\n",
      "[CV] .................... n_estimators=348, score=0.727, total=   0.3s\n",
      "[CV] n_estimators=348 ................................................\n",
      "[CV] .................... n_estimators=348, score=0.727, total=   0.3s\n",
      "[CV] n_estimators=349 ................................................\n",
      "[CV] .................... n_estimators=349, score=0.833, total=   0.3s\n",
      "[CV] n_estimators=349 ................................................\n",
      "[CV] .................... n_estimators=349, score=0.818, total=   0.3s\n",
      "[CV] n_estimators=349 ................................................\n",
      "[CV] .................... n_estimators=349, score=0.818, total=   0.4s\n",
      "[CV] n_estimators=349 ................................................\n",
      "[CV] .................... n_estimators=349, score=0.818, total=   0.3s\n",
      "[CV] n_estimators=349 ................................................\n",
      "[CV] .................... n_estimators=349, score=0.818, total=   0.3s\n"
     ]
    },
    {
     "name": "stderr",
     "output_type": "stream",
     "text": [
      "[Parallel(n_jobs=1)]: Done 250 out of 250 | elapsed:  1.4min finished\n"
     ]
    },
    {
     "data": {
      "text/plain": [
       "GridSearchCV(cv=None, error_score=nan,\n",
       "             estimator=RandomForestClassifier(bootstrap=True, ccp_alpha=0.0,\n",
       "                                              class_weight=None,\n",
       "                                              criterion='gini', max_depth=None,\n",
       "                                              max_features='auto',\n",
       "                                              max_leaf_nodes=None,\n",
       "                                              max_samples=None,\n",
       "                                              min_impurity_decrease=0.0,\n",
       "                                              min_impurity_split=None,\n",
       "                                              min_samples_leaf=1,\n",
       "                                              min_samples_split=2,\n",
       "                                              min_weight_fraction_leaf=0.0,\n",
       "                                              n_estimators=100, n_jobs=None,\n",
       "                                              oob_score=False,\n",
       "                                              random_state=None, verbose=0,\n",
       "                                              warm_start=False),\n",
       "             iid='deprecated', n_jobs=None,\n",
       "             param_grid={'n_estimators': [300, 301, 302, 303, 304, 305, 306,\n",
       "                                          307, 308, 309, 310, 311, 312, 313,\n",
       "                                          314, 315, 316, 317, 318, 319, 320,\n",
       "                                          321, 322, 323, 324, 325, 326, 327,\n",
       "                                          328, 329, ...]},\n",
       "             pre_dispatch='2*n_jobs', refit=True, return_train_score=False,\n",
       "             scoring=None, verbose=4)"
      ]
     },
     "execution_count": 43,
     "metadata": {},
     "output_type": "execute_result"
    }
   ],
   "source": [
    "grid.fit(X_train, y_train)"
   ]
  },
  {
   "cell_type": "code",
   "execution_count": 45,
   "metadata": {},
   "outputs": [
    {
     "data": {
      "text/plain": [
       "{'n_estimators': 315}"
      ]
     },
     "execution_count": 45,
     "metadata": {},
     "output_type": "execute_result"
    }
   ],
   "source": [
    "grid.best_params_"
   ]
  },
  {
   "cell_type": "code",
   "execution_count": 46,
   "metadata": {},
   "outputs": [
    {
     "name": "stdout",
     "output_type": "stream",
     "text": [
      "              precision    recall  f1-score   support\n",
      "\n",
      "           0       0.74      0.94      0.83        18\n",
      "           1       0.50      0.14      0.22         7\n",
      "\n",
      "    accuracy                           0.72        25\n",
      "   macro avg       0.62      0.54      0.53        25\n",
      "weighted avg       0.67      0.72      0.66        25\n",
      "\n"
     ]
    }
   ],
   "source": [
    "print(classification_report(y_test, y_pred))"
   ]
  },
  {
   "cell_type": "code",
   "execution_count": null,
   "metadata": {},
   "outputs": [],
   "source": []
  },
  {
   "cell_type": "code",
   "execution_count": null,
   "metadata": {},
   "outputs": [],
   "source": []
  },
  {
   "cell_type": "code",
   "execution_count": null,
   "metadata": {},
   "outputs": [],
   "source": []
  },
  {
   "cell_type": "code",
   "execution_count": null,
   "metadata": {},
   "outputs": [],
   "source": []
  }
 ],
 "metadata": {
  "kernelspec": {
   "display_name": "Python 3",
   "language": "python",
   "name": "python3"
  },
  "language_info": {
   "codemirror_mode": {
    "name": "ipython",
    "version": 3
   },
   "file_extension": ".py",
   "mimetype": "text/x-python",
   "name": "python",
   "nbconvert_exporter": "python",
   "pygments_lexer": "ipython3",
   "version": "3.7.6"
  }
 },
 "nbformat": 4,
 "nbformat_minor": 4
}
